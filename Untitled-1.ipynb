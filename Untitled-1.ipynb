{
 "cells": [
  {
   "cell_type": "markdown",
   "metadata": {},
   "source": [
    "# Présentation de 5B1C"
   ]
  },
  {
   "cell_type": "markdown",
   "metadata": {},
   "source": [
    "iReaz est un Youtubeur principalement centré sur le jeu League of Legends (abbrégé en LoL) qui s'est un jour posé une question intéressante : \"Est-ce que un seul joueur de LoL challenger pourraient vaincre 5 joueurs débutants dans une partie classique ?\". Pour répondre à  cette question, Ireaz a réuni des jours bronzes et des clahhenger (les meilleurs joueurs du jeu constituant X% des joueurs de Lol)\n",
    "\n",
    "\n",
    "Une longueur série de vidéo a alors débuté POUR R2PONDRE A CETTE QUESTIONS et est disponible ici : PLAYLIST\n",
    "Au tout début, tout portait à croire que les joueurs débutant se feraient vaincre facilement contre le joueur très expérimenté. Cependant, les nombreuses vidéo sur ce concept tendant à démontrer fortement l'inverse. En effet, sur X tentatives, moins de 10 joueurs ont réussi le challenge montrant à quel point c'est difficile.\n",
    "\n",
    "\n",
    "5B1C (abbréviation de 5 bronzes 1 challenger) est un projet qui vise à analyser les parties de League of Legends de ce concept de vidéo pour en tirer des informations intéressantes permettant de faciliter la réussite de ce challenge. Une base de données à été créée et se base sur 6 victoires et XX défaites.\n",
    "\n",
    "\n",
    "\n"
   ]
  },
  {
   "cell_type": "markdown",
   "metadata": {},
   "source": [
    "## L'analyse commence dès maintenant par l'importation des librairies nécessaires"
   ]
  },
  {
   "cell_type": "code",
   "execution_count": 1,
   "metadata": {},
   "outputs": [],
   "source": [
    "import matplotlib.pyplot as plt\n",
    "import pandas as pd\n",
    "\n",
    "## Librairie faites pour cette étude\n",
    "import librarie as lib\n",
    "\n",
    "## Paramètres d'affichage des catalogues de données\n",
    "lib.display_parameters(pd)"
   ]
  },
  {
   "cell_type": "markdown",
   "metadata": {},
   "source": [
    "## Importations des catalogues de données\n",
    "\n",
    "Deux catalogues de données vont être importés à savoir, celui contenant les parties victorieuses et celui contenant les parties perdantes"
   ]
  },
  {
   "cell_type": "code",
   "execution_count": 2,
   "metadata": {},
   "outputs": [],
   "source": [
    "victoire = pd.read_csv(\"donnees/victoire.csv\")\n",
    "defaite = pd.read_csv(\"donnees/defaite.csv\")\n",
    "\n",
    "## Transformer en liste Python les ensembles de données dans les colonnes des catalogues\n",
    "list_columns = [\"Temps numérique\", \"Temps numérique objets\", \"Kill\", \"Mort\", \"CS\", \"Temps objets\", \"Objets\"]\n",
    "victoire, defaite = lib.repair_list_in_df(victoire, defaite, list_columns)"
   ]
  },
  {
   "cell_type": "markdown",
   "metadata": {},
   "source": [
    "## Pour commencer, les kills des parties gagnantes et perdantes vont être observés"
   ]
  },
  {
   "cell_type": "code",
   "execution_count": 3,
   "metadata": {},
   "outputs": [
    {
     "ename": "TypeError",
     "evalue": "object of type 'float' has no len()",
     "output_type": "error",
     "traceback": [
      "\u001b[1;31m---------------------------------------------------------------------------\u001b[0m",
      "\u001b[1;31mTypeError\u001b[0m                                 Traceback (most recent call last)",
      "Cell \u001b[1;32mIn[3], line 7\u001b[0m\n\u001b[0;32m      1\u001b[0m plt\u001b[38;5;241m.\u001b[39mfigure(figsize\u001b[38;5;241m=\u001b[39m(\u001b[38;5;241m10\u001b[39m, \u001b[38;5;241m6\u001b[39m), dpi\u001b[38;5;241m=\u001b[39m\u001b[38;5;241m150\u001b[39m)\n\u001b[0;32m      3\u001b[0m \u001b[38;5;66;03m# Boucle sur toutes le dataframe pour les victoires\u001b[39;00m\n\u001b[0;32m      4\u001b[0m \u001b[38;5;66;03m# for index_game, game in victoire.iterrows():\u001b[39;00m\n\u001b[0;32m      5\u001b[0m \u001b[38;5;66;03m#     plt.plot(victoire[\"Temps numérique\"][index_game], victoire[\"Kill\"][index_game], marker='o', label=\"Game de \" + str(victoire[\"Nom du joueur\"][index_game]), color=\"green\")\u001b[39;00m\n\u001b[1;32m----> 7\u001b[0m \u001b[43mlib\u001b[49m\u001b[38;5;241;43m.\u001b[39;49m\u001b[43mmoyennes\u001b[49m\u001b[43m(\u001b[49m\u001b[43mvictoire\u001b[49m\u001b[43m,\u001b[49m\u001b[43m \u001b[49m\u001b[43mplt\u001b[49m\u001b[43m,\u001b[49m\u001b[43m \u001b[49m\u001b[38;5;124;43m\"\u001b[39;49m\u001b[38;5;124;43mKill\u001b[39;49m\u001b[38;5;124;43m\"\u001b[39;49m\u001b[43m,\u001b[49m\u001b[43m \u001b[49m\u001b[43mlabel\u001b[49m\u001b[38;5;241;43m=\u001b[39;49m\u001b[38;5;124;43m\"\u001b[39;49m\u001b[38;5;124;43mmoyenne victoire\u001b[39;49m\u001b[38;5;124;43m\"\u001b[39;49m\u001b[43m,\u001b[49m\u001b[43m \u001b[49m\u001b[43mcolor\u001b[49m\u001b[38;5;241;43m=\u001b[39;49m\u001b[38;5;124;43m\"\u001b[39;49m\u001b[38;5;124;43mgreen\u001b[39;49m\u001b[38;5;124;43m\"\u001b[39;49m\u001b[43m)\u001b[49m\n\u001b[0;32m      9\u001b[0m \u001b[38;5;66;03m# Boucle sur toutes le dataframe pour les défaites\u001b[39;00m\n\u001b[0;32m     10\u001b[0m \u001b[38;5;66;03m# for index_game, game in defaite.iterrows():\u001b[39;00m\n\u001b[0;32m     11\u001b[0m \u001b[38;5;66;03m#     plt.plot(defaite[\"Temps numérique\"][index_game], defaite[\"Kill\"][index_game], marker='o', label=\"Game de \" + str(defaite[\"Nom du joueur\"][index_game]), color=\"red\")\u001b[39;00m\n\u001b[0;32m     13\u001b[0m lib\u001b[38;5;241m.\u001b[39mmoyennes(defaite, plt, \u001b[38;5;124m\"\u001b[39m\u001b[38;5;124mKill\u001b[39m\u001b[38;5;124m\"\u001b[39m, label\u001b[38;5;241m=\u001b[39m\u001b[38;5;124m\"\u001b[39m\u001b[38;5;124mmoyenne défaite\u001b[39m\u001b[38;5;124m\"\u001b[39m, color\u001b[38;5;241m=\u001b[39m\u001b[38;5;124m\"\u001b[39m\u001b[38;5;124mred\u001b[39m\u001b[38;5;124m\"\u001b[39m)\n",
      "File \u001b[1;32mc:\\Users\\Thibaut\\test\\librarie.py:98\u001b[0m, in \u001b[0;36mmoyennes\u001b[1;34m(DATAFRAME, axe, ligne, label, color)\u001b[0m\n\u001b[0;32m     95\u001b[0m result_all_y \u001b[38;5;241m=\u001b[39m df\u001b[38;5;241m.\u001b[39mmean(axis\u001b[38;5;241m=\u001b[39m\u001b[38;5;241m0\u001b[39m)\u001b[38;5;241m.\u001b[39mtolist()\n\u001b[0;32m     97\u001b[0m \u001b[38;5;66;03m# Ajouter la ligne de moyenne au DataFrame\u001b[39;00m\n\u001b[1;32m---> 98\u001b[0m df_with_mean_x \u001b[38;5;241m=\u001b[39m \u001b[43mpd\u001b[49m\u001b[38;5;241;43m.\u001b[39;49m\u001b[43mDataFrame\u001b[49m\u001b[43m(\u001b[49m\u001b[43mresult_all_x\u001b[49m\u001b[43m \u001b[49m\u001b[38;5;241;43m+\u001b[39;49m\u001b[43m \u001b[49m\u001b[43m[\u001b[49m\u001b[43mnp\u001b[49m\u001b[38;5;241;43m.\u001b[39;49m\u001b[43mnan\u001b[49m\u001b[43m]\u001b[49m\u001b[43m)\u001b[49m\n\u001b[0;32m     99\u001b[0m df_with_mean_y \u001b[38;5;241m=\u001b[39m pd\u001b[38;5;241m.\u001b[39mDataFrame(result_all_y \u001b[38;5;241m+\u001b[39m [np\u001b[38;5;241m.\u001b[39mnan])\n\u001b[0;32m    101\u001b[0m \u001b[38;5;66;03m# Tracer les données\u001b[39;00m\n",
      "File \u001b[1;32m~\\AppData\\Roaming\\Python\\Python310\\site-packages\\pandas\\core\\frame.py:851\u001b[0m, in \u001b[0;36mDataFrame.__init__\u001b[1;34m(self, data, index, columns, dtype, copy)\u001b[0m\n\u001b[0;32m    849\u001b[0m     \u001b[38;5;28;01mif\u001b[39;00m columns \u001b[38;5;129;01mis\u001b[39;00m \u001b[38;5;129;01mnot\u001b[39;00m \u001b[38;5;28;01mNone\u001b[39;00m:\n\u001b[0;32m    850\u001b[0m         columns \u001b[38;5;241m=\u001b[39m ensure_index(columns)\n\u001b[1;32m--> 851\u001b[0m     arrays, columns, index \u001b[38;5;241m=\u001b[39m \u001b[43mnested_data_to_arrays\u001b[49m\u001b[43m(\u001b[49m\n\u001b[0;32m    852\u001b[0m \u001b[43m        \u001b[49m\u001b[38;5;66;43;03m# error: Argument 3 to \"nested_data_to_arrays\" has incompatible\u001b[39;49;00m\n\u001b[0;32m    853\u001b[0m \u001b[43m        \u001b[49m\u001b[38;5;66;43;03m# type \"Optional[Collection[Any]]\"; expected \"Optional[Index]\"\u001b[39;49;00m\n\u001b[0;32m    854\u001b[0m \u001b[43m        \u001b[49m\u001b[43mdata\u001b[49m\u001b[43m,\u001b[49m\n\u001b[0;32m    855\u001b[0m \u001b[43m        \u001b[49m\u001b[43mcolumns\u001b[49m\u001b[43m,\u001b[49m\n\u001b[0;32m    856\u001b[0m \u001b[43m        \u001b[49m\u001b[43mindex\u001b[49m\u001b[43m,\u001b[49m\u001b[43m  \u001b[49m\u001b[38;5;66;43;03m# type: ignore[arg-type]\u001b[39;49;00m\n\u001b[0;32m    857\u001b[0m \u001b[43m        \u001b[49m\u001b[43mdtype\u001b[49m\u001b[43m,\u001b[49m\n\u001b[0;32m    858\u001b[0m \u001b[43m    \u001b[49m\u001b[43m)\u001b[49m\n\u001b[0;32m    859\u001b[0m     mgr \u001b[38;5;241m=\u001b[39m arrays_to_mgr(\n\u001b[0;32m    860\u001b[0m         arrays,\n\u001b[0;32m    861\u001b[0m         columns,\n\u001b[1;32m   (...)\u001b[0m\n\u001b[0;32m    864\u001b[0m         typ\u001b[38;5;241m=\u001b[39mmanager,\n\u001b[0;32m    865\u001b[0m     )\n\u001b[0;32m    866\u001b[0m \u001b[38;5;28;01melse\u001b[39;00m:\n",
      "File \u001b[1;32m~\\AppData\\Roaming\\Python\\Python310\\site-packages\\pandas\\core\\internals\\construction.py:520\u001b[0m, in \u001b[0;36mnested_data_to_arrays\u001b[1;34m(data, columns, index, dtype)\u001b[0m\n\u001b[0;32m    517\u001b[0m \u001b[38;5;28;01mif\u001b[39;00m is_named_tuple(data[\u001b[38;5;241m0\u001b[39m]) \u001b[38;5;129;01mand\u001b[39;00m columns \u001b[38;5;129;01mis\u001b[39;00m \u001b[38;5;28;01mNone\u001b[39;00m:\n\u001b[0;32m    518\u001b[0m     columns \u001b[38;5;241m=\u001b[39m ensure_index(data[\u001b[38;5;241m0\u001b[39m]\u001b[38;5;241m.\u001b[39m_fields)\n\u001b[1;32m--> 520\u001b[0m arrays, columns \u001b[38;5;241m=\u001b[39m \u001b[43mto_arrays\u001b[49m\u001b[43m(\u001b[49m\u001b[43mdata\u001b[49m\u001b[43m,\u001b[49m\u001b[43m \u001b[49m\u001b[43mcolumns\u001b[49m\u001b[43m,\u001b[49m\u001b[43m \u001b[49m\u001b[43mdtype\u001b[49m\u001b[38;5;241;43m=\u001b[39;49m\u001b[43mdtype\u001b[49m\u001b[43m)\u001b[49m\n\u001b[0;32m    521\u001b[0m columns \u001b[38;5;241m=\u001b[39m ensure_index(columns)\n\u001b[0;32m    523\u001b[0m \u001b[38;5;28;01mif\u001b[39;00m index \u001b[38;5;129;01mis\u001b[39;00m \u001b[38;5;28;01mNone\u001b[39;00m:\n",
      "File \u001b[1;32m~\\AppData\\Roaming\\Python\\Python310\\site-packages\\pandas\\core\\internals\\construction.py:835\u001b[0m, in \u001b[0;36mto_arrays\u001b[1;34m(data, columns, dtype)\u001b[0m\n\u001b[0;32m    832\u001b[0m     \u001b[38;5;28;01mreturn\u001b[39;00m arrays, columns\n\u001b[0;32m    834\u001b[0m \u001b[38;5;28;01mif\u001b[39;00m \u001b[38;5;28misinstance\u001b[39m(data[\u001b[38;5;241m0\u001b[39m], (\u001b[38;5;28mlist\u001b[39m, \u001b[38;5;28mtuple\u001b[39m)):\n\u001b[1;32m--> 835\u001b[0m     arr \u001b[38;5;241m=\u001b[39m \u001b[43m_list_to_arrays\u001b[49m\u001b[43m(\u001b[49m\u001b[43mdata\u001b[49m\u001b[43m)\u001b[49m\n\u001b[0;32m    836\u001b[0m \u001b[38;5;28;01melif\u001b[39;00m \u001b[38;5;28misinstance\u001b[39m(data[\u001b[38;5;241m0\u001b[39m], abc\u001b[38;5;241m.\u001b[39mMapping):\n\u001b[0;32m    837\u001b[0m     arr, columns \u001b[38;5;241m=\u001b[39m _list_of_dict_to_arrays(data, columns)\n",
      "File \u001b[1;32m~\\AppData\\Roaming\\Python\\Python310\\site-packages\\pandas\\core\\internals\\construction.py:856\u001b[0m, in \u001b[0;36m_list_to_arrays\u001b[1;34m(data)\u001b[0m\n\u001b[0;32m    853\u001b[0m     content \u001b[38;5;241m=\u001b[39m lib\u001b[38;5;241m.\u001b[39mto_object_array_tuples(data)\n\u001b[0;32m    854\u001b[0m \u001b[38;5;28;01melse\u001b[39;00m:\n\u001b[0;32m    855\u001b[0m     \u001b[38;5;66;03m# list of lists\u001b[39;00m\n\u001b[1;32m--> 856\u001b[0m     content \u001b[38;5;241m=\u001b[39m \u001b[43mlib\u001b[49m\u001b[38;5;241;43m.\u001b[39;49m\u001b[43mto_object_array\u001b[49m\u001b[43m(\u001b[49m\u001b[43mdata\u001b[49m\u001b[43m)\u001b[49m\n\u001b[0;32m    857\u001b[0m \u001b[38;5;28;01mreturn\u001b[39;00m content\n",
      "File \u001b[1;32mlib.pyx:3014\u001b[0m, in \u001b[0;36mpandas._libs.lib.to_object_array\u001b[1;34m()\u001b[0m\n",
      "\u001b[1;31mTypeError\u001b[0m: object of type 'float' has no len()"
     ]
    },
    {
     "data": {
      "text/plain": [
       "<Figure size 1500x900 with 0 Axes>"
      ]
     },
     "metadata": {},
     "output_type": "display_data"
    }
   ],
   "source": [
    "plt.figure(figsize=(10, 6), dpi=150)\n",
    "\n",
    "# Boucle sur toutes le dataframe pour les victoires\n",
    "# for index_game, game in victoire.iterrows():\n",
    "#     plt.plot(victoire[\"Temps numérique\"][index_game], victoire[\"Kill\"][index_game], marker='o', label=\"Game de \" + str(victoire[\"Nom du joueur\"][index_game]), color=\"green\")\n",
    "\n",
    "lib.moyennes(victoire, plt, \"Kill\", label=\"moyenne victoire\", color=\"green\")\n",
    "\n",
    "# Boucle sur toutes le dataframe pour les défaites\n",
    "# for index_game, game in defaite.iterrows():\n",
    "#     plt.plot(defaite[\"Temps numérique\"][index_game], defaite[\"Kill\"][index_game], marker='o', label=\"Game de \" + str(defaite[\"Nom du joueur\"][index_game]), color=\"red\")\n",
    "\n",
    "lib.moyennes(defaite, plt, \"Kill\", label=\"moyenne défaite\", color=\"red\")\n",
    "\n",
    "lib.zone(victoire, \"Kill\", label='Zone de victoire', color='green')\n",
    "lib.zone(defaite, \"Kill\", label='Zone de défaite', color='red')\n",
    "\n",
    "plt.title('Évolution des kills au cours des parties')\n",
    "plt.xlabel('Temps (minutes)')\n",
    "plt.ylabel('Nombre de kills')\n",
    "plt.legend(loc='upper left', bbox_to_anchor=(1, 1))\n",
    "plt.grid()\n",
    "\n",
    "plt.tight_layout()\n",
    "plt.show()"
   ]
  },
  {
   "cell_type": "code",
   "execution_count": null,
   "metadata": {},
   "outputs": [],
   "source": [
    "plt.figure(figsize=(10,6),dpi=150)\n",
    "\n",
    "for index_game, game in victoire.iterrows():\n",
    "    plt.plot(victoire[\"Temps numérique\"][index_game], victoire[\"Mort\"][index_game], marker='o', label=\"Game de \" + str(victoire[\"Nom du joueur\"][index_game]))\n",
    "\n",
    "lib.moyennes(victoire, plt, \"Mort\")\n",
    "\n",
    "for index_game, game in defaite.iterrows():\n",
    "    plt.plot(defaite[\"Temps numérique\"][index_game], defaite[\"Mort\"][index_game], marker='o', label=\"Game de \" + str(defaite[\"Nom du joueur\"][index_game]))\n",
    "\n",
    "lib.moyennes(defaite, plt, \"Mort\", label = \"moyenne defaite\", color = \"red\")\n",
    "\n",
    "lib.zone(victoire, \"Mort\", label='Zone de victoire', color='green')\n",
    "lib.zone(defaite, \"Mort\", label='Zone de défaite', color='red')\n",
    "\n",
    "plt.title('Évolution des morts au cours des parties')\n",
    "plt.xlabel('Temps (minutes)')\n",
    "plt.ylabel('Nombre de morts')\n",
    "plt.legend(loc='upper left', bbox_to_anchor=(1, 1))\n",
    "plt.grid()\n",
    "\n",
    "plt.tight_layout()\n",
    "plt.show()"
   ]
  },
  {
   "cell_type": "code",
   "execution_count": null,
   "metadata": {},
   "outputs": [],
   "source": [
    "plt.figure(figsize=(10,6),dpi=150)\n",
    "\n",
    "for index_game, game in victoire.iterrows():\n",
    "    plt.plot(victoire[\"Temps numérique\"][index_game], victoire[\"CS\"][index_game], marker='o', label=\"Game de \" + str(victoire[\"Nom du joueur\"][index_game]))\n",
    "\n",
    "lib.moyennes(victoire, plt, \"CS\", label = \"moyenne victoire\")\n",
    "\n",
    "for index_game, game in defaite.iterrows():\n",
    "    plt.plot(defaite[\"Temps numérique\"][index_game], defaite[\"CS\"][index_game], marker='o', label=\"Game de \" + str(defaite[\"Nom du joueur\"][index_game]))\n",
    "\n",
    "lib.moyennes(defaite, plt, \"CS\", label = \"moyenne defaite\", color = \"red\")\n",
    "\n",
    "lib.zone(victoire, \"CS\", label='Zone de victoire', color='green')\n",
    "lib.zone(defaite, \"CS\", label='Zone de défaite', color='red')\n",
    "\n",
    "plt.title('Évolution des CS au cours des parties')\n",
    "plt.xlabel('Temps (minutes)')\n",
    "plt.ylabel('Nombre de CS')\n",
    "plt.legend(loc='upper left', bbox_to_anchor=(1, 1))\n",
    "plt.grid()\n",
    "\n",
    "plt.tight_layout()\n",
    "plt.show()"
   ]
  },
  {
   "cell_type": "code",
   "execution_count": null,
   "metadata": {},
   "outputs": [],
   "source": [
    "plt.figure(figsize=(10, 6), dpi=150)\n",
    "\n",
    "for index_game, game in victoire.iterrows():\n",
    "    plt.plot(victoire[\"Temps numérique objets\"][index_game], victoire[\"Objets\"][index_game], marker='o', linestyle='-', label=\"Game de \" + str(victoire[\"Nom du joueur\"][index_game]))#, color = \"green\")\n",
    "\n",
    "lib.moyenne(victoire, \"Temps numérique objets\", label = \"moyenne victoire\", color = \"green\")\n",
    "\n",
    "for index_game, game in defaite.iterrows():\n",
    "    plt.plot(defaite[\"Temps numérique objets\"][index_game], defaite[\"Objets\"][index_game], marker='o', linestyle='-', label=\"Game de \" + str(defaite[\"Nom du joueur\"][index_game]))#, color = \"red\")\n",
    "\n",
    "lib.moyenne(defaite, \"Temps numérique objets\", label = \"moyenne defaite\", color = \"red\")\n",
    "\n",
    "plt.title('Évolution des objets au cours du jeu')\n",
    "plt.xlabel('Temps (minutes)')\n",
    "plt.ylabel('Objets')\n",
    "plt.legend(loc='upper left', bbox_to_anchor=(1, 1))\n",
    "plt.grid()\n",
    "plt.show()"
   ]
  },
  {
   "cell_type": "code",
   "execution_count": null,
   "metadata": {},
   "outputs": [],
   "source": [
    "print(\"Durée moyenne des parties victorieuses :\", victoire[\"Vrai temps\"].mean())\n",
    "print(\"Durée moyenne des parties perdantes :\", defaite[\"Vrai temps\"].mean())"
   ]
  },
  {
   "cell_type": "code",
   "execution_count": null,
   "metadata": {},
   "outputs": [],
   "source": [
    "print(\"KDA moyen des parties victorieuses :\", victoire[\"KDA\"].mean())\n",
    "print(\"KDA moyen des parties perdantes :\", defaite[\"KDA\"].mean())"
   ]
  },
  {
   "cell_type": "code",
   "execution_count": null,
   "metadata": {},
   "outputs": [],
   "source": [
    "print(\"Nombre de tours perdues moyen des parties victorieuses :\", victoire[\"Nombre de tours perdues\"].mean())\n",
    "print(\"Nombre de tours perdues moyen des parties perdantes :\", defaite[\"Nombre de tours perdues\"].mean())"
   ]
  },
  {
   "cell_type": "code",
   "execution_count": null,
   "metadata": {},
   "outputs": [],
   "source": [
    "print(\"Nombre d'inibiteur perdus moyen des parties victorieuses :\", victoire[\"Nombre d'inibiteur perdus\"].mean())\n",
    "print(\"Nombre d'inibiteur perdus moyen des parties perdantes :\", defaite[\"Nombre d'inibiteur perdus\"].mean())"
   ]
  },
  {
   "cell_type": "code",
   "execution_count": null,
   "metadata": {},
   "outputs": [],
   "source": [
    "print(\"Nombres de tours détruite moyen des parties victorieuses :\", victoire[\"Nombres de tours détruite\"].mean())\n",
    "print(\"Nombres de tours détruite moyen des parties perdantes :\", defaite[\"Nombres de tours détruite\"].mean())\n",
    "\n",
    "#Prise d'objectif très très important plus que le farm donc perso split push important\n",
    "#defi encore plus difficile avec des mages qui font pas mal aux tours"
   ]
  },
  {
   "cell_type": "code",
   "execution_count": null,
   "metadata": {},
   "outputs": [],
   "source": [
    "print(\"Nombre d'inibiteur détruit moyen des parties victorieuses :\", victoire[\"Nombre d'inibiteur détruit\"].mean())\n",
    "print(\"Nombre d'inibiteur détruit moyen des parties perdantes :\", defaite[\"Nombre d'inibiteur détruit\"].mean())\n",
    "\n",
    "#Un seul inib détruit donc il vaut mieux se concentrer sur la destruction d'une seule lane plutôt que plusieurs"
   ]
  },
  {
   "cell_type": "code",
   "execution_count": null,
   "metadata": {},
   "outputs": [],
   "source": [
    "print(\"Cs/min moyen des parties victorieuses :\", victoire[\"Cs/min\"].mean())\n",
    "print(\"Cs/min moyen des parties perdantes :\", defaite[\"Cs/min\"].mean())\n",
    "\n",
    "#Le farm n'est pas décisif?"
   ]
  },
  {
   "cell_type": "code",
   "execution_count": null,
   "metadata": {},
   "outputs": [],
   "source": [
    "print(\"Gold total des parties victorieuses :\", victoire[\"Gold total\"].mean())\n",
    "print(\"Gold total des parties perdantes :\", defaite[\"Gold total\"].mean())"
   ]
  },
  {
   "cell_type": "code",
   "execution_count": null,
   "metadata": {},
   "outputs": [],
   "source": [
    "print(\"Gold/min moyen des parties victorieuses :\", victoire[\"Gold/min\"].mean())\n",
    "print(\"Gold/min moyen des parties perdantes :\", defaite[\"Gold/min\"].mean())"
   ]
  },
  {
   "cell_type": "code",
   "execution_count": null,
   "metadata": {},
   "outputs": [],
   "source": [
    "print(\"Temps première mort moyen des parties victorieuses :\", victoire[\"Temps numérique première mort\"].mean())\n",
    "print(\"Temps première mort moyen des parties perdantes :\", defaite[\"Temps numérique première mort\"].mean())\n",
    "\n",
    "#Donc fight assez tot mais il faudrait savoir qui meurt !"
   ]
  }
 ],
 "metadata": {
  "kernelspec": {
   "display_name": "Python 3",
   "language": "python",
   "name": "python3"
  },
  "language_info": {
   "codemirror_mode": {
    "name": "ipython",
    "version": 3
   },
   "file_extension": ".py",
   "mimetype": "text/x-python",
   "name": "python",
   "nbconvert_exporter": "python",
   "pygments_lexer": "ipython3",
   "version": "3.10.6"
  }
 },
 "nbformat": 4,
 "nbformat_minor": 2
}
